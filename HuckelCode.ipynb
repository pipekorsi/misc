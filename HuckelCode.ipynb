{
 "cells": [
  {
   "cell_type": "code",
   "execution_count": 1,
   "metadata": {},
   "outputs": [],
   "source": [
    "#load modules\n",
    "import os\n",
    "import subprocess\n",
    "import time\n",
    "import fnmatch\n",
    "from subprocess import Popen, PIPE\n",
    "from IPython.display import display, clear_output, Image\n",
    "from ipywidgets import interact, interactive, fixed, interact_manual, Checkbox\n",
    "import ipywidgets as widgets\n",
    "\n",
    "\n",
    "import matplotlib.pyplot as plt\n",
    "import numpy as np\n",
    "%matplotlib inline\n",
    "import gc\n",
    "\n",
    "from IPython.core.display import Image"
   ]
  },
  {
   "cell_type": "code",
   "execution_count": 2,
   "metadata": {
    "collapsed": true
   },
   "outputs": [],
   "source": [
    "distance_mx = Checkbox(\n",
    "    description=' ',\n",
    "    value=False\n",
    ")\n",
    "overlap_pop = Checkbox(\n",
    "    value=False,\n",
    "    description=' '\n",
    ")\n",
    "red_overlap_pop = Checkbox(\n",
    "    value=False,\n",
    "    description=' '\n",
    ")\n",
    "charge_mx = Checkbox(\n",
    "    value=False,\n",
    "    description=' '\n",
    ")\n",
    "wave_func = Checkbox(\n",
    "    value=False,\n",
    "    description=' '\n",
    ")\n",
    "net_charges = Checkbox(\n",
    "    value=False,\n",
    "    description=' '\n",
    ")\n",
    "overlap = Checkbox(\n",
    "    value=False,\n",
    "    description=' '\n",
    ")\n",
    "\n",
    "hamil = Checkbox(\n",
    "    value=False,\n",
    "    description=' '\n",
    ")\n",
    "\n",
    "electrostatic = Checkbox(\n",
    "    value=False,\n",
    "    description=' '\n",
    ")\n",
    "\n",
    "levels = Checkbox(\n",
    "    value=False,\n",
    "    description=' '\n",
    ")\n",
    "\n",
    "fermi = Checkbox(\n",
    "    value=False,\n",
    "    description=' '\n",
    ")\n",
    "\n",
    "orbital_energy = Checkbox(\n",
    "    value=False,\n",
    "    description=' '\n",
    ")\n",
    "\n",
    "orbital_coeff = Checkbox(\n",
    "    value=False,\n",
    "    description=' '\n",
    ")\n",
    "\n",
    "orbital_mapping = Checkbox(\n",
    "    value=False,\n",
    "    description=' '\n",
    ")\n",
    "\n",
    "dump_overlap = Checkbox(\n",
    "    value=False,\n",
    "    description=' '\n",
    ")\n",
    "\n",
    "dump_hamil = Checkbox(\n",
    "    value=False,\n",
    "    description=' '\n",
    ")\n",
    "\n",
    "dump_sparse = Checkbox(\n",
    "    value=False,\n",
    "    description=' '\n",
    ")\n",
    "\n",
    "\n",
    "all_checkboxes = [distance_mx, overlap_pop,red_overlap_pop, charge_mx,\n",
    "              wave_func,net_charges,overlap, hamil, electrostatic, \n",
    "                  levels, fermi,orbital_energy, orbital_coeff,\n",
    "              orbital_mapping,dump_overlap,dump_hamil, dump_sparse]\n",
    "\n",
    "all_labels = ['Distance matrix', 'Overlap population', 'Reduced overlap population', 'Charge matrix',\n",
    "             'Wave functions', 'Net charges', 'Overlap matrix', 'Hamiltonian matrix', 'Electrostatic',\n",
    "             'Levels', 'Fermi', 'Orbital energy', 'Orbital coefficient', 'Orbital mapping', 'Dump overlap',\n",
    "             'Dump Hamiltonian', 'Dump sparse']\n",
    "\n",
    "firstgroup = [distance_mx, overlap_pop,red_overlap_pop, charge_mx,\n",
    "              wave_func,net_charges,overlap, hamil, electrostatic]\n",
    "\n",
    "\n",
    "secondgroup = [levels, fermi,orbital_energy, orbital_coeff,\n",
    "              orbital_mapping,dump_overlap,dump_hamil, dump_sparse]\n"
   ]
  },
  {
   "cell_type": "code",
   "execution_count": 3,
   "metadata": {
    "collapsed": true
   },
   "outputs": [],
   "source": [
    "#Dictionary for checkboxes and for configuration keywords\n",
    "propertiesdictionary = {distance_mx.description: 'distance matrix',\n",
    "                        overlap_pop.description: 'overlap population',\n",
    "                        red_overlap_pop.description: 'reduced overlap population',\n",
    "                        charge_mx.description:'charge matrix',\n",
    "                        wave_func.description: 'wave functions',\n",
    "                        net_charges.description:'net charges',\n",
    "                        overlap.description:'overlap',\n",
    "                        hamil.description:'hamil',\n",
    "                        electrostatic.description:'electrostatic',\n",
    "                        levels.description:'levels',\n",
    "                        fermi.description:'fermi',\n",
    "                        orbital_energy.description:'orbital energy',\n",
    "                        orbital_coeff.description:'orbital coeff',\n",
    "                        orbital_mapping.description:'orbital mapping',\n",
    "                        levels.description:'levels',\n",
    "                        dump_overlap.description:'dump overlap',\n",
    "                        dump_hamil.description:'dump hamil',\n",
    "                        dump_sparse.description:'dump sparse'}"
   ]
  },
  {
   "cell_type": "code",
   "execution_count": 4,
   "metadata": {
    "collapsed": true
   },
   "outputs": [],
   "source": [
    "def createinput( arg1, arg2 ):\n",
    "    process = Popen([\"/home/toncsi/ClionProjects/IPython/input_pdb\", arg1, arg2], stdout=subprocess.PIPE, stderr=subprocess.PIPE)\n",
    "    (output, err) = process.communicate()\n",
    "    exit_code = process.wait()\n",
    "    if err ==  b'':\n",
    "        print('Creation of input file was successful')\n",
    "        return\n",
    "    else:\n",
    "        return err\n",
    "\n",
    "def huckel(arg):\n",
    "    process = Popen([\"/home/toncsi/ClionProjects/IPython/bind\", arg], stdout=subprocess.PIPE, stderr=subprocess.PIPE)\n",
    "    (output, err) = process.communicate()\n",
    "    exit_code = process.wait()\n",
    "    if err ==  b'':\n",
    "        print('Extended Huckel calculations were successful')\n",
    "        return\n",
    "    else:\n",
    "        return err"
   ]
  },
  {
   "cell_type": "code",
   "execution_count": 5,
   "metadata": {
    "collapsed": true
   },
   "outputs": [],
   "source": [
    "#Write own configuration file based on given properties\n",
    "\n",
    "def writeproperties( arg ):\n",
    "    for item in arg:\n",
    "        if item.value == True:\n",
    "            f.write(propertiesdictionary[item.description]+'=true\\n')\n",
    "        else:\n",
    "            f.write(propertiesdictionary[item.description]+'=false\\n')\n",
    "    return"
   ]
  },
  {
   "cell_type": "code",
   "execution_count": 6,
   "metadata": {
    "collapsed": true
   },
   "outputs": [],
   "source": [
    "def writeconfigfile():\n",
    "    f = open(configFileName, 'w')\n",
    "    f.write('molecule name='+ molName + '\\n')\n",
    "    for item in firstgroup:\n",
    "        if item.value == True:\n",
    "            f.write(propertiesdictionary[item.description]+'=true\\n')\n",
    "        else:\n",
    "            f.write(propertiesdictionary[item.description]+'=false\\n')\n",
    "    for item in secondgroup:\n",
    "        if item.value == True:\n",
    "            f.write(propertiesdictionary[item.description]+'=true\\n')\n",
    "        else:\n",
    "            f.write(propertiesdictionary[item.description]+'=false\\n')\n",
    "    f.close()"
   ]
  },
  {
   "cell_type": "code",
   "execution_count": 7,
   "metadata": {
    "scrolled": false
   },
   "outputs": [
    {
     "name": "stdout",
     "output_type": "stream",
     "text": [
      "Molecule filename: x\n",
      "Configuration filename: y\n"
     ]
    }
   ],
   "source": [
    "#Specify input file names\n",
    "molFileName = input(\"Molecule filename: \")\n",
    "configFileName = input(\"Configuration filename: \")\n",
    "molName = molFileName[:molFileName.find('.')]\n",
    "yahFileName= molName + '.yah'"
   ]
  },
  {
   "cell_type": "code",
   "execution_count": 8,
   "metadata": {
    "collapsed": true
   },
   "outputs": [],
   "source": [
    "from ipywidgets import Layout, Button, Box, FloatText, Textarea, Dropdown, Label, IntSlider, SelectMultiple, Checkbox, interactive, FloatRangeSlider, Accordion, HTML\n",
    "from IPython.display import display"
   ]
  },
  {
   "cell_type": "code",
   "execution_count": 9,
   "metadata": {},
   "outputs": [],
   "source": [
    "label_layout = Layout()\n",
    "\n",
    "form_item_layout = Layout(\n",
    "    display='flex',\n",
    "    flex_flow='row',\n",
    "    justify_content='space-between',\n",
    "#     width='50%'\n",
    ")\n",
    "\n",
    "form_mainlabel_layout = Layout(width='160px')\n",
    "\n",
    "form_items = [Box([HTML('<b><font size=\"4\">Please set configuration parameters by clicking the checkboxes below:</font></b>')])]\n",
    "\n",
    "if (len(all_checkboxes)%2 == 0):\n",
    "    for cb_index in range(int(np.ceil(len(all_checkboxes)/2))):\n",
    "        form_items.append(Box([Label(value=all_labels[cb_index], layout=form_mainlabel_layout), all_checkboxes[cb_index], Label(value=all_labels[cb_index+int(np.ceil(len(all_checkboxes)/2))], layout=form_mainlabel_layout), all_checkboxes[cb_index+int(np.ceil(len(all_checkboxes)/2))]], layout=form_item_layout))\n",
    "else:\n",
    "    for cb_index in range(int(np.floor(len(all_checkboxes)/2))):\n",
    "        form_items.append(Box([Label(value=all_labels[cb_index], layout=form_mainlabel_layout), all_checkboxes[cb_index], Label(value=all_labels[cb_index+int(np.ceil(len(all_checkboxes)/2))], layout=form_mainlabel_layout), all_checkboxes[cb_index+int(np.ceil(len(all_checkboxes)/2))]], layout=form_item_layout))\n",
    "    form_items.append(Box([Label(value=all_labels[cb_index+1], layout=form_mainlabel_layout), all_checkboxes[cb_index+1]], layout=form_item_layout))\n",
    "\n",
    "form = Box(form_items, layout=Layout(\n",
    "    display='flex',\n",
    "    flex_flow='column',\n",
    "    align_items='flex-start',\n",
    "    width='70%'\n",
    "))"
   ]
  },
  {
   "cell_type": "code",
   "execution_count": 10,
   "metadata": {},
   "outputs": [
    {
     "data": {
      "application/vnd.jupyter.widget-view+json": {
       "model_id": "e512984428f44b5dbe22a822d6f0a601"
      }
     },
     "metadata": {},
     "output_type": "display_data"
    }
   ],
   "source": [
    "display(form)"
   ]
  },
  {
   "cell_type": "code",
   "execution_count": 11,
   "metadata": {},
   "outputs": [
    {
     "data": {
      "application/vnd.jupyter.widget-view+json": {
       "model_id": "f66bd1d733eb450fb8a1f5f8d45a614d"
      }
     },
     "metadata": {},
     "output_type": "display_data"
    }
   ],
   "source": [
    "#If not using a configuration file that was created before, use the following checkboxes\n",
    "#and then uncomment the cell containing the writeconfigfile function\n",
    "#Parameters of the configuration file\n",
    "container1 = widgets.HBox([widgets.VBox(firstgroup), widgets.VBox(secondgroup)])\n",
    "display(container1)"
   ]
  },
  {
   "cell_type": "code",
   "execution_count": 12,
   "metadata": {},
   "outputs": [
    {
     "data": {
      "application/vnd.jupyter.widget-view+json": {
       "model_id": "cf12dc09cfd245adb2192f6510842bb5"
      }
     },
     "metadata": {},
     "output_type": "display_data"
    }
   ],
   "source": [
    "container2 = widgets.HBox([widgets.VBox(secondgroup)])\n",
    "display(container2)                          "
   ]
  },
  {
   "cell_type": "code",
   "execution_count": 13,
   "metadata": {},
   "outputs": [],
   "source": [
    "#Uncomment the following line if specific configuration file is to be created\n",
    "writeconfigfile()"
   ]
  },
  {
   "cell_type": "code",
   "execution_count": 15,
   "metadata": {},
   "outputs": [],
   "source": [
    "createinput(molFileName,configFileName)"
   ]
  },
  {
   "cell_type": "code",
   "execution_count": null,
   "metadata": {},
   "outputs": [],
   "source": [
    "huckel(yahFileName)"
   ]
  }
 ],
 "metadata": {
  "kernelspec": {
   "display_name": "Python 3",
   "language": "python",
   "name": "python3"
  },
  "language_info": {
   "codemirror_mode": {
    "name": "ipython",
    "version": 3
   },
   "file_extension": ".py",
   "mimetype": "text/x-python",
   "name": "python",
   "nbconvert_exporter": "python",
   "pygments_lexer": "ipython3",
   "version": "3.6.1"
  }
 },
 "nbformat": 4,
 "nbformat_minor": 2
}
